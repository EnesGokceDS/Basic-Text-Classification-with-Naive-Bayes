{
  "nbformat": 4,
  "nbformat_minor": 0,
  "metadata": {
    "colab": {
      "name": "Mini_Project_Naive_Bayes-checkpoint.ipynb",
      "provenance": [],
      "include_colab_link": true
    },
    "language_info": {
      "codemirror_mode": {
        "name": "ipython",
        "version": 2
      },
      "file_extension": ".py",
      "mimetype": "text/x-python",
      "name": "python",
      "nbconvert_exporter": "python",
      "pygments_lexer": "ipython2",
      "version": "2.7.13"
    },
    "kernelspec": {
      "display_name": "Python 2",
      "language": "python",
      "name": "python2"
    }
  },
  "cells": [
    {
      "cell_type": "markdown",
      "metadata": {
        "id": "view-in-github",
        "colab_type": "text"
      },
      "source": [
        "<a href=\"https://colab.research.google.com/github/Raizel820/Basic-Text-Classification-with-Naive-Bayes/blob/master/Mini_Project_Naive_Bayes_checkpoint.ipynb\" target=\"_parent\"><img src=\"https://colab.research.google.com/assets/colab-badge.svg\" alt=\"Open In Colab\"/></a>"
      ]
    },
    {
      "cell_type": "markdown",
      "metadata": {
        "id": "_PiRdm8oa7jx",
        "colab_type": "text"
      },
      "source": [
        "# Basic Text Classification with Naive Bayes\n",
        "***\n",
        "In the mini-project, I'll demonstrate the basics of text analysis using a subset of movie reviews from the rotten tomatoes database. I'll also use a fundamental technique in Bayesian inference, called Naive Bayes. This mini-project is based on [Lab 10 of Harvard's CS109](https://github.com/cs109/2015lab10) class.  Please free to go to the original lab for additional exercises and solutions."
      ]
    },
    {
      "cell_type": "code",
      "metadata": {
        "id": "AMo1j6Rha7j2",
        "colab_type": "code",
        "colab": {}
      },
      "source": [
        "%matplotlib inline\n",
        "import numpy as np\n",
        "import scipy as sp\n",
        "import matplotlib as mpl\n",
        "import matplotlib.cm as cm\n",
        "import matplotlib.pyplot as plt\n",
        "import pandas as pd\n",
        "import seaborn as sns\n",
        "from six.moves import range\n",
        "\n",
        "# Setup Pandas\n",
        "pd.set_option('display.width', 500)\n",
        "pd.set_option('display.max_columns', 100)\n",
        "pd.set_option('display.notebook_repr_html', True)\n",
        "\n",
        "# Setup Seaborn\n",
        "sns.set_style(\"whitegrid\")\n",
        "sns.set_context(\"poster\")"
      ],
      "execution_count": 0,
      "outputs": []
    },
    {
      "cell_type": "markdown",
      "metadata": {
        "id": "EUkogKWHa7kA",
        "colab_type": "text"
      },
      "source": [
        "# Table of Contents\n",
        "\n",
        "* [Rotten Tomatoes Dataset](#Rotten-Tomatoes-Dataset)\n",
        "    * [Explore](#Explore)\n",
        "* [The Vector Space Model and a Search Engine](#The-Vector-Space-Model-and-a-Search-Engine)\n",
        "    * [In Code](#In-Code)\n",
        "* [Naive Bayes](#Naive-Bayes)\n",
        "    * [Multinomial Naive Bayes and Other Likelihood Functions](#Multinomial-Naive-Bayes-and-Other-Likelihood-Functions)\n",
        "    * [Picking Hyperparameters for Naive Bayes and Text Maintenance](#Picking-Hyperparameters-for-Naive-Bayes-and-Text-Maintenance)\n",
        "* [Interpretation](#Interpretation)\n"
      ]
    },
    {
      "cell_type": "markdown",
      "metadata": {
        "id": "BvwK6i4sa7kB",
        "colab_type": "text"
      },
      "source": [
        "## Rotten Tomatoes Dataset"
      ]
    },
    {
      "cell_type": "code",
      "metadata": {
        "id": "sv7rNBpea7kE",
        "colab_type": "code",
        "outputId": "d9e72ee5-d7b9-4a40-b58a-cec5d804e40e",
        "colab": {
          "base_uri": "https://localhost:8080/",
          "height": 363
        }
      },
      "source": [
        "import pandas as pd\n",
        "url ='https://raw.githubusercontent.com/Raizel820/Basic-Text-Classification-with-Naive-Bayes/master/critics.csv'\n",
        "critics = pd.read_csv(url)\n",
        "#let's drop rows with missing quotes\n",
        "critics = critics[~critics.quote.isnull()]\n",
        "critics.sample(10)"
      ],
      "execution_count": 6,
      "outputs": [
        {
          "output_type": "execute_result",
          "data": {
            "text/html": [
              "<div>\n",
              "<style scoped>\n",
              "    .dataframe tbody tr th:only-of-type {\n",
              "        vertical-align: middle;\n",
              "    }\n",
              "\n",
              "    .dataframe tbody tr th {\n",
              "        vertical-align: top;\n",
              "    }\n",
              "\n",
              "    .dataframe thead th {\n",
              "        text-align: right;\n",
              "    }\n",
              "</style>\n",
              "<table border=\"1\" class=\"dataframe\">\n",
              "  <thead>\n",
              "    <tr style=\"text-align: right;\">\n",
              "      <th></th>\n",
              "      <th>critic</th>\n",
              "      <th>fresh</th>\n",
              "      <th>imdb</th>\n",
              "      <th>publication</th>\n",
              "      <th>quote</th>\n",
              "      <th>review_date</th>\n",
              "      <th>rtid</th>\n",
              "      <th>title</th>\n",
              "    </tr>\n",
              "  </thead>\n",
              "  <tbody>\n",
              "    <tr>\n",
              "      <th>14839</th>\n",
              "      <td>Jeff Millar</td>\n",
              "      <td>fresh</td>\n",
              "      <td>119099</td>\n",
              "      <td>Houston Chronicle</td>\n",
              "      <td>If you have an interest in capital-letter Good...</td>\n",
              "      <td>2000-01-01</td>\n",
              "      <td>13474</td>\n",
              "      <td>Fallen</td>\n",
              "    </tr>\n",
              "    <tr>\n",
              "      <th>26117</th>\n",
              "      <td>Adam Graham</td>\n",
              "      <td>rotten</td>\n",
              "      <td>450314</td>\n",
              "      <td>Detroit News</td>\n",
              "      <td>This is purely gutter, fanboy, Cheez Whiz cine...</td>\n",
              "      <td>2008-12-05</td>\n",
              "      <td>770676216</td>\n",
              "      <td>Punisher: War Zone</td>\n",
              "    </tr>\n",
              "    <tr>\n",
              "      <th>16368</th>\n",
              "      <td>Mordaunt Hall</td>\n",
              "      <td>fresh</td>\n",
              "      <td>20629</td>\n",
              "      <td>New York Times</td>\n",
              "      <td>Messrs. Milestone, Abbott and Anderson in this...</td>\n",
              "      <td>2003-05-20</td>\n",
              "      <td>17121</td>\n",
              "      <td>All Quiet on the Western Front</td>\n",
              "    </tr>\n",
              "    <tr>\n",
              "      <th>20730</th>\n",
              "      <td>Peter Stack</td>\n",
              "      <td>fresh</td>\n",
              "      <td>156901</td>\n",
              "      <td>San Francisco Chronicle</td>\n",
              "      <td>Veracity is undermined by the very idea that t...</td>\n",
              "      <td>2001-04-03</td>\n",
              "      <td>196036617</td>\n",
              "      <td>Sib</td>\n",
              "    </tr>\n",
              "    <tr>\n",
              "      <th>24980</th>\n",
              "      <td>Jeff Millar</td>\n",
              "      <td>rotten</td>\n",
              "      <td>120596</td>\n",
              "      <td>Houston Chronicle</td>\n",
              "      <td>Steve Cohen's screenplay, is pretty much DOA.</td>\n",
              "      <td>2000-01-01</td>\n",
              "      <td>12070</td>\n",
              "      <td>The Bachelor</td>\n",
              "    </tr>\n",
              "    <tr>\n",
              "      <th>12039</th>\n",
              "      <td>James Berardinelli</td>\n",
              "      <td>fresh</td>\n",
              "      <td>118548</td>\n",
              "      <td>ReelViews</td>\n",
              "      <td>A fairly routine thriller that gets high marks...</td>\n",
              "      <td>2000-01-01</td>\n",
              "      <td>13603</td>\n",
              "      <td>Absolute Power</td>\n",
              "    </tr>\n",
              "    <tr>\n",
              "      <th>4867</th>\n",
              "      <td>Sean O'Connell</td>\n",
              "      <td>fresh</td>\n",
              "      <td>107290</td>\n",
              "      <td>Washington Post</td>\n",
              "      <td>\"Jurassic Park\" was impressive in 1993. Twenty...</td>\n",
              "      <td>2013-04-04</td>\n",
              "      <td>10983</td>\n",
              "      <td>Jurassic Park</td>\n",
              "    </tr>\n",
              "    <tr>\n",
              "      <th>14111</th>\n",
              "      <td>Roger Ebert</td>\n",
              "      <td>fresh</td>\n",
              "      <td>118749</td>\n",
              "      <td>Chicago Sun-Times</td>\n",
              "      <td>As a writer and director, Paul Thomas Anderson...</td>\n",
              "      <td>2000-01-01</td>\n",
              "      <td>14134</td>\n",
              "      <td>Boogie Nights</td>\n",
              "    </tr>\n",
              "    <tr>\n",
              "      <th>27543</th>\n",
              "      <td>J. Hoberman</td>\n",
              "      <td>fresh</td>\n",
              "      <td>165798</td>\n",
              "      <td>Village Voice</td>\n",
              "      <td>Ghost Dog is an impeccably shot and sensationa...</td>\n",
              "      <td>2000-01-01</td>\n",
              "      <td>13267</td>\n",
              "      <td>Ghost Dog: The Way of the Samurai</td>\n",
              "    </tr>\n",
              "    <tr>\n",
              "      <th>20988</th>\n",
              "      <td>Gene Seymour</td>\n",
              "      <td>fresh</td>\n",
              "      <td>142192</td>\n",
              "      <td>Newsday</td>\n",
              "      <td>James Foley directs with lean, mean stylishnes...</td>\n",
              "      <td>2000-01-01</td>\n",
              "      <td>14666</td>\n",
              "      <td>The Corruptor</td>\n",
              "    </tr>\n",
              "  </tbody>\n",
              "</table>\n",
              "</div>"
            ],
            "text/plain": [
              "                   critic   fresh    imdb              publication                                              quote review_date       rtid                              title\n",
              "14839         Jeff Millar   fresh  119099        Houston Chronicle  If you have an interest in capital-letter Good...  2000-01-01      13474                             Fallen\n",
              "26117         Adam Graham  rotten  450314             Detroit News  This is purely gutter, fanboy, Cheez Whiz cine...  2008-12-05  770676216                 Punisher: War Zone\n",
              "16368       Mordaunt Hall   fresh   20629           New York Times  Messrs. Milestone, Abbott and Anderson in this...  2003-05-20      17121     All Quiet on the Western Front\n",
              "20730         Peter Stack   fresh  156901  San Francisco Chronicle  Veracity is undermined by the very idea that t...  2001-04-03  196036617                                Sib\n",
              "24980         Jeff Millar  rotten  120596        Houston Chronicle      Steve Cohen's screenplay, is pretty much DOA.  2000-01-01      12070                       The Bachelor\n",
              "12039  James Berardinelli   fresh  118548                ReelViews  A fairly routine thriller that gets high marks...  2000-01-01      13603                     Absolute Power\n",
              "4867       Sean O'Connell   fresh  107290          Washington Post  \"Jurassic Park\" was impressive in 1993. Twenty...  2013-04-04      10983                      Jurassic Park\n",
              "14111         Roger Ebert   fresh  118749        Chicago Sun-Times  As a writer and director, Paul Thomas Anderson...  2000-01-01      14134                      Boogie Nights\n",
              "27543         J. Hoberman   fresh  165798            Village Voice  Ghost Dog is an impeccably shot and sensationa...  2000-01-01      13267  Ghost Dog: The Way of the Samurai\n",
              "20988        Gene Seymour   fresh  142192                  Newsday  James Foley directs with lean, mean stylishnes...  2000-01-01      14666                      The Corruptor"
            ]
          },
          "metadata": {
            "tags": []
          },
          "execution_count": 6
        }
      ]
    },
    {
      "cell_type": "markdown",
      "metadata": {
        "id": "kdejRyJba7kK",
        "colab_type": "text"
      },
      "source": [
        "### Explore"
      ]
    },
    {
      "cell_type": "code",
      "metadata": {
        "id": "U8osvbpqa7kM",
        "colab_type": "code",
        "outputId": "20a64ca1-304e-4c25-b4b5-f8dab5979172",
        "colab": {
          "base_uri": "https://localhost:8080/",
          "height": 71
        }
      },
      "source": [
        "n_reviews = len(critics)\n",
        "n_movies = critics.rtid.unique().size\n",
        "n_critics = critics.critic.unique().size\n",
        "\n",
        "\n",
        "print(\"Number of reviews: {:d}\".format(n_reviews))\n",
        "print(\"Number of critics: {:d}\".format(n_critics))\n",
        "print(\"Number of movies:  {:d}\".format(n_movies))"
      ],
      "execution_count": 7,
      "outputs": [
        {
          "output_type": "stream",
          "text": [
            "Number of reviews: 15561\n",
            "Number of critics: 623\n",
            "Number of movies:  1921\n"
          ],
          "name": "stdout"
        }
      ]
    },
    {
      "cell_type": "code",
      "metadata": {
        "id": "9uFYEkfxa7kR",
        "colab_type": "code",
        "outputId": "0cbe9580-43c5-4609-9b77-72a5c6f81629",
        "colab": {
          "base_uri": "https://localhost:8080/",
          "height": 324
        }
      },
      "source": [
        "df = critics.copy()\n",
        "df['fresh'] = df.fresh == 'fresh'\n",
        "grp = df.groupby('critic')\n",
        "counts = grp.critic.count()  # number of reviews by each critic\n",
        "means = grp.fresh.mean()     # average freshness for each critic\n",
        "\n",
        "means[counts > 100].hist(bins=10, edgecolor='w', lw=1)\n",
        "plt.xlabel(\"Average Rating per critic\")\n",
        "plt.ylabel(\"Number of Critics\")\n",
        "plt.yticks([0, 2, 4, 6, 8, 10]);"
      ],
      "execution_count": 8,
      "outputs": [
        {
          "output_type": "display_data",
          "data": {
            "image/png": "[encoded data removed]",
            "text/plain": [
              "<Figure size 432x288 with 1 Axes>"
            ]
          },
          "metadata": {
            "tags": []
          }
        }
      ]
    },
    {
      "cell_type": "markdown",
      "metadata": {
        "id": "BtXetm85a7kX",
        "colab_type": "text"
      },
      "source": [
        "<b>Question 1:</b> Look at the histogram above. Tell a story about the average ratings per critic. What shape does the distribution look like? What is interesting about the distribution? What might explain these interesting things?\n",
        "</div>"
      ]
    },
    {
      "cell_type": "markdown",
      "metadata": {
        "id": "Byyie9aXdc2Z",
        "colab_type": "text"
      },
      "source": [
        "<b>Answer:</b>\n",
        "\n",
        "It's a positively skewed graph. We can tell that people are tend to rate critics slightly above the middle score (0.5). On the other hand, we have very limited number of observations here. Therefore, we may have sampling bias, and our generalization may not be accurate."
      ]
    },
    {
      "cell_type": "markdown",
      "metadata": {
        "id": "ogFVXM4_a7kZ",
        "colab_type": "text"
      },
      "source": [
        "## The Vector Space Model and a Search Engine"
      ]
    },
    {
      "cell_type": "markdown",
      "metadata": {
        "id": "zobB4Tlsa7ke",
        "colab_type": "text"
      },
      "source": [
        "### In Code"
      ]
    },
    {
      "cell_type": "code",
      "metadata": {
        "id": "lw6rsy4za7kf",
        "colab_type": "code",
        "outputId": "9a82e8c4-6148-4d72-84fb-79776a844ba3",
        "colab": {
          "base_uri": "https://localhost:8080/",
          "height": 231
        }
      },
      "source": [
        "from sklearn.feature_extraction.text import CountVectorizer\n",
        "\n",
        "text = ['Hop on pop', 'Hop off pop', 'Hop Hop hop']\n",
        "print(\"Original text is\\n{}\".format('\\n'.join(text)))\n",
        "\n",
        "vectorizer = CountVectorizer(min_df=0)\n",
        "\n",
        "# call `fit` to build the vocabulary\n",
        "vectorizer.fit(text)\n",
        "\n",
        "# call `transform` to convert text to a bag of words\n",
        "x = vectorizer.transform(text)\n",
        "\n",
        "# CountVectorizer uses a sparse array to save memory, but it's easier in this assignment to \n",
        "# convert back to a \"normal\" numpy array\n",
        "x = x.toarray()\n",
        "\n",
        "print(\"\")\n",
        "print(\"Transformed text vector is \\n{}\".format(x))\n",
        "\n",
        "# `get_feature_names` tracks which word is associated with each column of the transformed x\n",
        "print(\"\")\n",
        "print(\"Words for each feature:\")\n",
        "print(vectorizer.get_feature_names())\n",
        "\n",
        "# Notice that the bag of words treatment doesn't preserve information about the *order* of words, \n",
        "# just their frequency"
      ],
      "execution_count": 9,
      "outputs": [
        {
          "output_type": "stream",
          "text": [
            "Original text is\n",
            "Hop on pop\n",
            "Hop off pop\n",
            "Hop Hop hop\n",
            "\n",
            "Transformed text vector is \n",
            "[[1 0 1 1]\n",
            " [1 1 0 1]\n",
            " [3 0 0 0]]\n",
            "\n",
            "Words for each feature:\n",
            "[u'hop', u'off', u'on', u'pop']\n"
          ],
          "name": "stdout"
        }
      ]
    },
    {
      "cell_type": "code",
      "metadata": {
        "id": "TRREt9zEa7kk",
        "colab_type": "code",
        "colab": {}
      },
      "source": [
        "def make_xy(critics, vectorizer=None):\n",
        "    if vectorizer is None:\n",
        "        vectorizer = CountVectorizer()\n",
        "    X = vectorizer.fit_transform(critics.quote)\n",
        "    X = X.tocsc()  # some versions of sklearn return COO format\n",
        "    y = (critics.fresh == 'fresh').values.astype(np.int)\n",
        "    return X, y\n",
        "X, y = make_xy(critics)"
      ],
      "execution_count": 0,
      "outputs": []
    },
    {
      "cell_type": "markdown",
      "metadata": {
        "id": "dnGofv9ca7kq",
        "colab_type": "text"
      },
      "source": [
        "## Naive Bayes"
      ]
    },
    {
      "cell_type": "markdown",
      "metadata": {
        "id": "RQ1nuMona7kv",
        "colab_type": "text"
      },
      "source": [
        "<p><b>Question set - II:</b> Implement a simple Naive Bayes classifier:</p>\n",
        "\n",
        "<ol>\n",
        "<li> split the data set into a training and test set\n",
        "<li> Use `scikit-learn`'s `MultinomialNB()` classifier with default parameters.\n",
        "<li> train the classifier over the training set and test on the test set\n",
        "<li> print the accuracy scores for both the training and the test sets\n",
        "</ol>\n",
        "\n",
        "What do you notice? Is this a good classifier? If not, why not?\n",
        "</div>"
      ]
    },
    {
      "cell_type": "code",
      "metadata": {
        "id": "l8-WpAt_a7kw",
        "colab_type": "code",
        "outputId": "0c6bdefa-e113-4abb-9fbb-aec13033d452",
        "colab": {
          "base_uri": "https://localhost:8080/",
          "height": 35
        }
      },
      "source": [
        "from sklearn.naive_bayes import MultinomialNB\n",
        "from sklearn.model_selection import train_test_split\n",
        "\n",
        "xtrain, xtest, ytrain, ytest = train_test_split(X, y)\n",
        "clf = MultinomialNB().fit(xtrain, ytrain)\n",
        "print \"MN Accuracy: %0.2f%%\" % (100 * clf.score(xtest, ytest))"
      ],
      "execution_count": 20,
      "outputs": [
        {
          "output_type": "stream",
          "text": [
            "MN Accuracy: 75.71%\n"
          ],
          "name": "stdout"
        }
      ]
    },
    {
      "cell_type": "code",
      "metadata": {
        "id": "m-nsmXq4IXTt",
        "colab_type": "code",
        "outputId": "92ee0f4c-c413-49db-8b15-50ae5ee45d10",
        "colab": {
          "base_uri": "https://localhost:8080/",
          "height": 53
        }
      },
      "source": [
        "training_accuracy = clf.score(xtrain, ytrain)\n",
        "test_accuracy = clf.score(xtest, ytest)\n",
        "\n",
        "print \"Accuracy on training data: %0.2f\" % (training_accuracy)\n",
        "print \"Accuracy on test data:     %0.2f\" % (test_accuracy)"
      ],
      "execution_count": 21,
      "outputs": [
        {
          "output_type": "stream",
          "text": [
            "Accuracy on training data: 0.92\n",
            "Accuracy on test data:     0.76\n"
          ],
          "name": "stdout"
        }
      ]
    },
    {
      "cell_type": "markdown",
      "metadata": {
        "id": "T28mo32tIe2h",
        "colab_type": "text"
      },
      "source": [
        "By looking at training data, we can see that there is an overfit issue on training data because if our model does much better on the training set than on the test set, then we’re likely overfitting (92% vs 77%). Therefore, it's not a good classifier. "
      ]
    },
    {
      "cell_type": "markdown",
      "metadata": {
        "id": "ELUrISuZa7k2",
        "colab_type": "text"
      },
      "source": [
        "### Picking Hyperparameters for Naive Bayes and Text Maintenance"
      ]
    },
    {
      "cell_type": "markdown",
      "metadata": {
        "id": "ujhAjo68a7k4",
        "colab_type": "text"
      },
      "source": [
        "We need to know what value to use for $\\alpha$, and we also need to know which words to include in the vocabulary. As mentioned earlier, some words are obvious stopwords. Other words appear so infrequently that they serve as noise, and other words in addition to stopwords appear so frequently that they may also serve as noise."
      ]
    },
    {
      "cell_type": "markdown",
      "metadata": {
        "id": "3sNKkzbUa7k6",
        "colab_type": "text"
      },
      "source": [
        "First, let's find an appropriate value for `min_df` for the `CountVectorizer`. `min_df` can be either an integer or a float/decimal. If it is an integer, `min_df` represents the minimum number of documents a word must appear in for it to be included in the vocabulary. If it is a float, it represents the minimum *percentage* of documents a word must appear in to be included in the vocabulary. From the documentation:"
      ]
    },
    {
      "cell_type": "markdown",
      "metadata": {
        "id": "Y3EwuLw4a7k7",
        "colab_type": "text"
      },
      "source": [
        ">min_df: When building the vocabulary ignore terms that have a document frequency strictly lower than the given threshold. This value is also called cut-off in the literature. If float, the parameter represents a proportion of documents, integer absolute counts. This parameter is ignored if vocabulary is not None."
      ]
    },
    {
      "cell_type": "markdown",
      "metadata": {
        "id": "iPF5T2kFa7k8",
        "colab_type": "text"
      },
      "source": [
        "<div class=\"span5 alert alert-info\">\n",
        "<h3>Question Set 3</h3>\n",
        "\n",
        "<p><b>Question:</b> Construct the cumulative distribution of document frequencies (df). The $x$-axis is a document count $x_i$ and the $y$-axis is the percentage of words that appear less than $x_i$ times. For example, at $x=5$, plot a point representing the percentage or number of words that appear 5 or fewer documents.</p>\n",
        "\n",
        "<p><b>Question:</b> Look for the point at which the curve begins climbing steeply. This may be a good value for `min_df`. If we were interested in also picking `max_df`, we would likely pick the value where the curve starts to plateau. What value did you choose?</p>\n",
        "</div>"
      ]
    },
    {
      "cell_type": "markdown",
      "metadata": {
        "id": "puZUMr4Hio-A",
        "colab_type": "text"
      },
      "source": [
        "Answer:"
      ]
    },
    {
      "cell_type": "markdown",
      "metadata": {
        "id": "kPSDdRx1iljx",
        "colab_type": "text"
      },
      "source": [
        "The parameter $\\alpha$ is chosen to be a small value that simply avoids having zeros in the probability computations. This value can sometimes be chosen arbitrarily with domain expertise, but we will use K-fold cross validation. In K-fold cross-validation, we divide the data into $K$ non-overlapping parts. We train on $K-1$ of the folds and test on the remaining fold. We then iterate, so that each fold serves as the test fold exactly once. The function `cv_score` performs the K-fold cross-validation algorithm for us, but we need to pass a function that measures the performance of the algorithm on each fold. "
      ]
    },
    {
      "cell_type": "code",
      "metadata": {
        "id": "IvMy3k1adJvK",
        "colab_type": "code",
        "colab": {}
      },
      "source": [
        "from sklearn.model_selection import KFold\n",
        "def cv_score(clf, X, y, scorefunc):\n",
        "    result = 0.\n",
        "    nfold = 5\n",
        "    for train, test in KFold(nfold).split(X): # split data into train/test groups, 5 times\n",
        "        clf.fit(X[train], y[train]) # fit the classifier, passed is as clf.\n",
        "        result += scorefunc(clf, X[test], y[test]) # evaluate score function on held-out data\n",
        "    return result / nfold # average"
      ],
      "execution_count": 0,
      "outputs": []
    },
    {
      "cell_type": "markdown",
      "metadata": {
        "id": "Bft5kxQ5i5G7",
        "colab_type": "text"
      },
      "source": [
        "We use the log-likelihood as the score here in `scorefunc`. The higher the log-likelihood, the better. Indeed, what we do in `cv_score` above is to implement the cross-validation part of `GridSearchCV`.\n",
        "\n",
        "The custom scoring function `scorefunc` allows us to use different metrics depending on the decision risk we care about (precision, accuracy, profit etc.) directly on the validation set. You will often find people using `roc_auc`, precision, recall, or `F1-score` as the scoring function."
      ]
    },
    {
      "cell_type": "code",
      "metadata": {
        "id": "lS8mURCP1m6s",
        "colab_type": "code",
        "colab": {}
      },
      "source": [
        "def log_likelihood(clf, x, y):\n",
        "    prob = clf.predict_log_proba(x)\n",
        "    rotten = y == 0\n",
        "    fresh = ~rotten\n",
        "    return prob[rotten, 0].sum() + prob[fresh, 1].sum()"
      ],
      "execution_count": 0,
      "outputs": []
    },
    {
      "cell_type": "markdown",
      "metadata": {
        "id": "DfFS4G68jCvV",
        "colab_type": "text"
      },
      "source": [
        "We'll cross-validate over the regularization parameter $\\alpha$."
      ]
    },
    {
      "cell_type": "markdown",
      "metadata": {
        "id": "pX6yqsIbNYxY",
        "colab_type": "text"
      },
      "source": [
        "Let's set up the train and test masks first, and then we can run the cross-validation procedure."
      ]
    },
    {
      "cell_type": "code",
      "metadata": {
        "id": "74VlPDFuNWPi",
        "colab_type": "code",
        "colab": {}
      },
      "source": [
        "from sklearn.model_selection import train_test_split\n",
        "_, itest = train_test_split(range(critics.shape[0]), train_size=0.7)\n",
        "mask = np.zeros(critics.shape[0], dtype=np.bool)\n",
        "mask[itest] = True"
      ],
      "execution_count": 0,
      "outputs": []
    },
    {
      "cell_type": "markdown",
      "metadata": {
        "id": "dVlsIoP3jrGJ",
        "colab_type": "text"
      },
      "source": [
        "<div class=\"span5 alert alert-info\">\n",
        "<h3>Exercise Set IV</h3>\n",
        "\n",
        "<p><b>Exercise:</b> What does using the function `log_likelihood` as the score mean? What are we trying to optimize for?</p>\n",
        "\n",
        "<p><b>Exercise:</b> Without writing any code, what do you think would happen if you choose a value of $\\alpha$ that is too high?</p>\n",
        "\n",
        "<p><b>Exercise:</b> Using the skeleton code below, find the best values of the parameter `alpha`, and use the value of `min_df` you chose in the previous exercise set. Use the `cv_score` function above with the `log_likelihood` function for scoring.</p>\n",
        "</div>"
      ]
    },
    {
      "cell_type": "code",
      "metadata": {
        "id": "GELQtFiBzQgN",
        "colab_type": "code",
        "colab": {}
      },
      "source": [
        "#the grid of parameters to search over\n",
        "alphas = [0, .1, 1, 5, 10, 50]\n",
        "min_dfs = [1e-5, 1e-4, 1e-3, 1e-2, 1e-1]\n",
        "\n",
        "#Find the best value for alpha and min_df, and the best classifier\n",
        "best_alpha = None\n",
        "best_min_df = None\n",
        "maxscore=-np.inf\n",
        "for alpha in alphas:\n",
        "    for min_df in min_dfs:         \n",
        "        vectorizer = CountVectorizer(min_df = min_df)       \n",
        "        Xthis, ythis = make_xy(critics, vectorizer)\n",
        "        Xtrainthis=Xthis[mask]\n",
        "        ytrainthis=ythis[mask]\n",
        "        clf = MultinomialNB(alpha=alpha)\n",
        "        cvscore = cv_score(clf, Xtrainthis, ytrainthis, log_likelihood)\n",
        "\n",
        "        if cvscore > maxscore:\n",
        "            maxscore = cvscore\n",
        "            best_alpha, best_min_df = alpha, min_df"
      ],
      "execution_count": 0,
      "outputs": []
    },
    {
      "cell_type": "code",
      "metadata": {
        "id": "ddEMZddaeJWr",
        "colab_type": "code",
        "colab": {
          "base_uri": "https://localhost:8080/",
          "height": 53
        },
        "outputId": "f1bf3572-04c9-4fa2-c4c7-773837bf28a9"
      },
      "source": [
        "print \"alpha: %f\" % best_alpha\n",
        "print \"min_df: %f\" % best_min_df"
      ],
      "execution_count": 61,
      "outputs": [
        {
          "output_type": "stream",
          "text": [
            "alpha: 5.000000\n",
            "min_df: 0.001000\n"
          ],
          "name": "stdout"
        }
      ]
    },
    {
      "cell_type": "code",
      "metadata": {
        "id": "Hl-ScJiMa7lh",
        "colab_type": "code",
        "colab": {
          "base_uri": "https://localhost:8080/",
          "height": 35
        },
        "outputId": "9b69c623-4823-4f99-9e5e-96e0a472a4cc"
      },
      "source": [
        "print(\"alpha: {}\".format(best_alpha))"
      ],
      "execution_count": 62,
      "outputs": [
        {
          "output_type": "stream",
          "text": [
            "alpha: 5\n"
          ],
          "name": "stdout"
        }
      ]
    },
    {
      "cell_type": "markdown",
      "metadata": {
        "id": "j-0fhPXda7ll",
        "colab_type": "text"
      },
      "source": [
        "<div class=\"span5 alert alert-info\">\n",
        "<h3>Exercise Set V: Working with the Best Parameters</h3>\n",
        "\n",
        "<p><b>Exercise:</b> Using the best value of  `alpha` you just found, calculate the accuracy on the training and test sets. Is this classifier better? Why (not)?</p>\n",
        "\n",
        "</div>"
      ]
    },
    {
      "cell_type": "code",
      "metadata": {
        "id": "VcFA4T85a7lm",
        "colab_type": "code",
        "colab": {
          "base_uri": "https://localhost:8080/",
          "height": 53
        },
        "outputId": "02adfca1-6867-4c3d-a21a-b5deb5a1bfb0"
      },
      "source": [
        "vectorizer = CountVectorizer(min_df=best_min_df)\n",
        "X, y = make_xy(critics, vectorizer)\n",
        "xtrain=X[mask]\n",
        "ytrain=y[mask]\n",
        "xtest=X[~mask]\n",
        "ytest=y[~mask]\n",
        "\n",
        "clf = MultinomialNB(alpha=best_alpha).fit(xtrain, ytrain)\n",
        "\n",
        "#your turn. Print the accuracy on the test and training dataset\n",
        "training_accuracy = clf.score(xtrain, ytrain)\n",
        "test_accuracy = clf.score(xtest, ytest)\n",
        "\n",
        "print(\"Accuracy on training data: {:2f}\".format(training_accuracy))\n",
        "print(\"Accuracy on test data:     {:2f}\".format(test_accuracy))"
      ],
      "execution_count": 63,
      "outputs": [
        {
          "output_type": "stream",
          "text": [
            "Accuracy on training data: 0.794389\n",
            "Accuracy on test data:     0.716030\n"
          ],
          "name": "stdout"
        }
      ]
    },
    {
      "cell_type": "markdown",
      "metadata": {
        "id": "f3WgY9pDkUjB",
        "colab_type": "text"
      },
      "source": [
        "Compared to previous results, these results are less accurate but we overcome **overfitting** issue."
      ]
    },
    {
      "cell_type": "code",
      "metadata": {
        "id": "QhYInQXWa7lr",
        "colab_type": "code",
        "colab": {
          "base_uri": "https://localhost:8080/",
          "height": 53
        },
        "outputId": "853bf4c2-3fb3-4e7d-98df-fee2b0776349"
      },
      "source": [
        "from sklearn.metrics import confusion_matrix\n",
        "print(confusion_matrix(ytest, clf.predict(xtest)))"
      ],
      "execution_count": 64,
      "outputs": [
        {
          "output_type": "stream",
          "text": [
            "[[2061 2195]\n",
            " [ 898 5738]]\n"
          ],
          "name": "stdout"
        }
      ]
    },
    {
      "cell_type": "markdown",
      "metadata": {
        "id": "BTHCxpdKa7lu",
        "colab_type": "text"
      },
      "source": [
        "## Interpretation"
      ]
    },
    {
      "cell_type": "markdown",
      "metadata": {
        "id": "ojgOEXSta7lw",
        "colab_type": "text"
      },
      "source": [
        "### What are the strongly predictive features?\n",
        "\n",
        "We use a neat trick to identify strongly predictive features (i.e. words). \n",
        "\n",
        "I will\n",
        "* firstly create a data set such that each row has exactly one feature. This is represented by the identity matrix.\n",
        "* use the trained classifier to make predictions on this matrix\n",
        "* sort the rows by predicted probabilities, and pick the top and bottom $K$ rows"
      ]
    },
    {
      "cell_type": "code",
      "metadata": {
        "id": "bPw6XPW7a7lw",
        "colab_type": "code",
        "colab": {
          "base_uri": "https://localhost:8080/",
          "height": 410
        },
        "outputId": "3f5c0ee0-0ec0-4003-9bc4-dbc57b08f74f"
      },
      "source": [
        "words = np.array(vectorizer.get_feature_names())\n",
        "\n",
        "x = np.eye(xtest.shape[1])\n",
        "probs = clf.predict_log_proba(x)[:, 0]\n",
        "ind = np.argsort(probs)\n",
        "\n",
        "good_words = words[ind[:10]]\n",
        "bad_words = words[ind[-10:]]\n",
        "\n",
        "good_prob = probs[ind[:10]]\n",
        "bad_prob = probs[ind[-10:]]\n",
        "\n",
        "print(\"Good words\\t     P(fresh | word)\")\n",
        "for w, p in zip(good_words, good_prob):\n",
        "    print(\"{:>20}\".format(w), \"{:.2f}\".format(1 - np.exp(p)))\n",
        "    \n",
        "print(\"Bad words\\t     P(fresh | word)\")\n",
        "for w, p in zip(bad_words, bad_prob):\n",
        "    print(\"{:>20}\".format(w), \"{:.2f}\".format(1 - np.exp(p)))"
      ],
      "execution_count": 65,
      "outputs": [
        {
          "output_type": "stream",
          "text": [
            "Good words\t     P(fresh | word)\n",
            "('        entertaining', '0.87')\n",
            "('               witty', '0.85')\n",
            "('              moving', '0.84')\n",
            "('             perfect', '0.84')\n",
            "('           enjoyable', '0.84')\n",
            "('            powerful', '0.83')\n",
            "('         intelligent', '0.83')\n",
            "('               years', '0.83')\n",
            "('       entertainment', '0.83')\n",
            "('               great', '0.82')\n",
            "Bad words\t     P(fresh | word)\n",
            "('               video', '0.31')\n",
            "('                flat', '0.30')\n",
            "('                lame', '0.28')\n",
            "('                dull', '0.28')\n",
            "('               worst', '0.27')\n",
            "('       unfortunately', '0.27')\n",
            "('             problem', '0.27')\n",
            "('               bland', '0.26')\n",
            "('             unfunny', '0.25')\n",
            "('               fails', '0.24')\n"
          ],
          "name": "stdout"
        }
      ]
    },
    {
      "cell_type": "markdown",
      "metadata": {
        "id": "RhmiH34Nnlcj",
        "colab_type": "text"
      },
      "source": [
        "We can see mis-predictions as well."
      ]
    },
    {
      "cell_type": "markdown",
      "metadata": {
        "id": "FI7unp51a7l0",
        "colab_type": "text"
      },
      "source": [
        "<div class=\"span5 alert alert-info\">\n",
        "<h3>Exercise Set VI</h3>\n",
        "\n",
        "<p><b>Exercise:</b> Why does this method work? What does the probability for each row in the identity matrix represent</p>\n",
        "\n",
        "</div>"
      ]
    },
    {
      "cell_type": "markdown",
      "metadata": {
        "id": "ljyHd6rYa7l1",
        "colab_type": "text"
      },
      "source": [
        "The above exercise is an example of *feature selection*. There are many other feature selection methods. A list of feature selection methods available in `sklearn` is [here](http://scikit-learn.org/stable/modules/classes.html#module-sklearn.feature_selection). The most common feature selection technique for text mining is the chi-squared $\\left( \\chi^2 \\right)$ [method](http://nlp.stanford.edu/IR-book/html/htmledition/feature-selectionchi2-feature-selection-1.html)."
      ]
    },
    {
      "cell_type": "markdown",
      "metadata": {
        "id": "KccCgIGBa7l2",
        "colab_type": "text"
      },
      "source": [
        "### Prediction Errors\n",
        "\n",
        "We can see mis-predictions as well."
      ]
    },
    {
      "cell_type": "code",
      "metadata": {
        "id": "SaV1KqMAa7l3",
        "colab_type": "code",
        "colab": {
          "base_uri": "https://localhost:8080/",
          "height": 466
        },
        "outputId": "fbc7db3c-1999-4900-9072-9875c62cf8c4"
      },
      "source": [
        "x, y = make_xy(critics, vectorizer)\n",
        "\n",
        "prob = clf.predict_proba(x)[:, 0]\n",
        "predict = clf.predict(x)\n",
        "\n",
        "bad_rotten = np.argsort(prob[y == 0])[:5]\n",
        "bad_fresh = np.argsort(prob[y == 1])[-5:]\n",
        "\n",
        "print(\"Mis-predicted Rotten quotes\")\n",
        "print('---------------------------')\n",
        "for row in bad_rotten:\n",
        "    print(critics[y == 0].quote.iloc[row])\n",
        "    print(\"\")\n",
        "\n",
        "print(\"Mis-predicted Fresh quotes\")\n",
        "print('--------------------------')\n",
        "for row in bad_fresh:\n",
        "    print(critics[y == 1].quote.iloc[row])\n",
        "    print(\"\")"
      ],
      "execution_count": 66,
      "outputs": [
        {
          "output_type": "stream",
          "text": [
            "Mis-predicted Rotten quotes\n",
            "---------------------------\n",
            "With its feints at horror and pathos, the third Star Wars film is the most Disney-esque in its emotional outline, yet that outline is buried beneath an obnoxiously hyped-up pace that reduces the emotions to rubble.\n",
            "\n",
            "It survives today only as an unusually pure example of a typical 50s art-film strategy: the attempt to make the most modern and most popular of art forms acceptable to the intelligentsia by forcing it into an arcane, antique mold.\n",
            "\n",
            "The plot of The Glimmer Man involves not only the Family Man but Our Evil Secret Government, the Russian Mafia and Rich Powerful Politicians -- the three stooges of action cinema in the '90s.\n",
            "\n",
            "It's a sad day when an actor who's totally, beautifully in touch with his dark side finds himself stuck in a movie that's scared of its own shadow.\n",
            "\n",
            "Directed with composure, but no great fervour, the film's conspicuously uninterested in American football, and much concerned with testing the limits and the resilience of the American dream.\n",
            "\n",
            "Mis-predicted Fresh quotes\n",
            "--------------------------\n",
            "Might it be a serious attempt to right some unretrievable wrong via gallows humor which avoids the polemics? This seems to be the course taken; the attempt at least can be respected in theory.\n",
            "\n",
            "Certain, probably arrested, personalities (like mine) just find this kind of sh*t pretty funny and any attempt to talk your way around that is, as Cartman would say, blowing bubbles out your *ss.\n",
            "\n",
            "Bowfinger isn't quite the deliriously slap-happy farce it wants to be, but Steve Martin and Eddie Murphy generate just enough laughs to keep you watching it.\n",
            "\n",
            "This tough-to-peg whodunit keeps you going for two hours, despite a few James Bond-ish (or Jane Bond-ish) turns that play less preposterously than you might assume were they to be divulged.\n",
            "\n",
            "Though it's a good half hour too long, this overblown 1993 spin-off of the 60s TV show otherwise adds up to a pretty good suspense thriller.\n",
            "\n"
          ],
          "name": "stdout"
        }
      ]
    },
    {
      "cell_type": "markdown",
      "metadata": {
        "id": "y98NOL6Va7l7",
        "colab_type": "text"
      },
      "source": [
        "<div class=\"span5 alert alert-info\">\n",
        "<h3>Exercise Set VII: Predicting the Freshness for a New Review</h3>\n",
        "<br/>\n",
        "<div>\n",
        "<b>I will :</b>\n",
        "<ul>\n",
        "<li> use the best trained classifier, predict the freshness of the following sentence: *'This movie is not remarkable, touching, or superb in any way'*\n",
        "<li> discuss whether this is an expected result or not\n",
        "</ul>\n",
        "</div>\n",
        "</div>"
      ]
    },
    {
      "cell_type": "code",
      "metadata": {
        "id": "V0quu9INmqyt",
        "colab_type": "code",
        "colab": {
          "base_uri": "https://localhost:8080/",
          "height": 35
        },
        "outputId": "2092b333-e1f2-4c18-c5d1-6008b68d28e1"
      },
      "source": [
        "clf.predict_proba(vectorizer.transform(['This movie is not remarkable, touching, or superb in any way']))"
      ],
      "execution_count": 67,
      "outputs": [
        {
          "output_type": "execute_result",
          "data": {
            "text/plain": [
              "array([[0.08483136, 0.91516864]])"
            ]
          },
          "metadata": {
            "tags": []
          },
          "execution_count": 67
        }
      ]
    },
    {
      "cell_type": "markdown",
      "metadata": {
        "id": "aJ6l5bR4FxxH",
        "colab_type": "text"
      },
      "source": [
        ""
      ]
    },
    {
      "cell_type": "markdown",
      "metadata": {
        "id": "YPB5hQ_pa7mC",
        "colab_type": "text"
      },
      "source": [
        "### TF-IDF Weighting for Term Importance\n",
        "\n",
        "TF-IDF stands for \n",
        "\n",
        "`Term-Frequency X Inverse Document Frequency`.\n",
        "\n",
        "In the standard `CountVectorizer` model above, we used just the term frequency in a document of words in our vocabulary. In TF-IDF, we weight this term frequency by the inverse of its popularity in all documents. For example, if the word \"movie\" showed up in all the documents, it would not have much predictive value. It could actually be considered a stopword. By weighing its counts by 1 divided by its overall frequency, we downweight it. We can then use this TF-IDF weighted features as inputs to any classifier. **TF-IDF is essentially a measure of term importance, and of how discriminative a word is in a corpus.**\n"
      ]
    },
    {
      "cell_type": "code",
      "metadata": {
        "id": "0XYDJ7pLa7mC",
        "colab_type": "code",
        "colab": {}
      },
      "source": [
        "# http://scikit-learn.org/dev/modules/feature_extraction.html#text-feature-extraction\n",
        "# http://scikit-learn.org/dev/modules/classes.html#text-feature-extraction-ref\n",
        "from sklearn.feature_extraction.text import TfidfVectorizer\n",
        "tfidfvectorizer = TfidfVectorizer(min_df=1, stop_words='english')\n",
        "Xtfidf=tfidfvectorizer.fit_transform(critics.quote)"
      ],
      "execution_count": 0,
      "outputs": []
    },
    {
      "cell_type": "code",
      "metadata": {
        "id": "YR0079QhxVt1",
        "colab_type": "code",
        "colab": {
          "base_uri": "https://localhost:8080/",
          "height": 35
        },
        "outputId": "d66cfcec-7655-4082-8a58-2ced0c3b5efd"
      },
      "source": [
        "Xtfidf[0].toarray()"
      ],
      "execution_count": 114,
      "outputs": [
        {
          "output_type": "execute_result",
          "data": {
            "text/plain": [
              "array([[0., 0., 0., ..., 0., 0., 0.]])"
            ]
          },
          "metadata": {
            "tags": []
          },
          "execution_count": 114
        }
      ]
    },
    {
      "cell_type": "code",
      "metadata": {
        "id": "TEzJwYz9xZds",
        "colab_type": "code",
        "colab": {
          "base_uri": "https://localhost:8080/",
          "height": 35
        },
        "outputId": "23b4cc63-3913-4a3c-ba7b-3ccc53c0f5ac"
      },
      "source": [
        "Xtfidf.shape"
      ],
      "execution_count": 115,
      "outputs": [
        {
          "output_type": "execute_result",
          "data": {
            "text/plain": [
              "(15561, 22125)"
            ]
          },
          "metadata": {
            "tags": []
          },
          "execution_count": 115
        }
      ]
    },
    {
      "cell_type": "markdown",
      "metadata": {
        "id": "v-njQV--a7mG",
        "colab_type": "text"
      },
      "source": [
        "<div class=\"span5 alert alert-info\">\n",
        "<h3>Exercise Set VIII: Enrichment </h3>\n",
        "\n",
        "<p>\n",
        "There are several additional things we could try. Try some of these as exercises:\n",
        "<ol>\n",
        "<li> Build a Naive Bayes model where the features are n-grams instead of words. N-grams are phrases containing n words next to each other: a bigram contains 2 words, a trigram contains 3 words, and 6-gram contains 6 words. This is useful because \"not good\" and \"so good\" mean very different things. On the other hand, as n increases, the model does not scale well since the feature set becomes more sparse.\n",
        "<li> Try a model besides Naive Bayes, one that would allow for interactions between words -- for example, a Random Forest classifier.\n",
        "<li> Try adding supplemental features -- information about genre, director, cast, etc.\n",
        "<li> Use word2vec or [Latent Dirichlet Allocation](https://en.wikipedia.org/wiki/Latent_Dirichlet_allocation) to group words into topics and use those topics for prediction.\n",
        "<li> Use TF-IDF weighting instead of word counts.\n",
        "</ol>\n",
        "</p>\n",
        "\n",
        "<b>Exercise:</b> Try at least one of these ideas to improve the model (or any other ideas of your own). Implement here and report on the result. \n",
        "</div>"
      ]
    },
    {
      "cell_type": "code",
      "metadata": {
        "id": "Br5-kwhCxXr4",
        "colab_type": "code",
        "colab": {}
      },
      "source": [
        "import gensim"
      ],
      "execution_count": 0,
      "outputs": []
    },
    {
      "cell_type": "code",
      "metadata": {
        "id": "eIDcm-FGa7mH",
        "colab_type": "code",
        "colab": {}
      },
      "source": [
        "vectorizer = CountVectorizer(min_df=1, stop_words='english')\n",
        "X=vectorizer.fit_transform(critics.quote)"
      ],
      "execution_count": 0,
      "outputs": []
    },
    {
      "cell_type": "code",
      "metadata": {
        "id": "GJJHaYVYxlsC",
        "colab_type": "code",
        "colab": {}
      },
      "source": [
        "corpus=vectorizer.get_feature_names()\n",
        "id2words = dict((v, k) for k, v in vectorizer.vocabulary_.iteritems())\n",
        "corpus_gensim = gensim.matutils.Sparse2Corpus(X, documents_columns=False)"
      ],
      "execution_count": 0,
      "outputs": []
    },
    {
      "cell_type": "code",
      "metadata": {
        "id": "gI9ah0jAxrli",
        "colab_type": "code",
        "colab": {}
      },
      "source": [
        "lda = gensim.models.ldamodel.LdaModel(corpus_gensim, id2word=id2words, num_topics=5, update_every=1, chunksize=1000, passes=1)"
      ],
      "execution_count": 0,
      "outputs": []
    },
    {
      "cell_type": "code",
      "metadata": {
        "id": "zPcczUs8xr9n",
        "colab_type": "code",
        "colab": {
          "base_uri": "https://localhost:8080/",
          "height": 196
        },
        "outputId": "fd90bfc5-db75-4f2b-aabc-dcd016c70c0e"
      },
      "source": [
        "lda.print_topics()"
      ],
      "execution_count": 126,
      "outputs": [
        {
          "output_type": "execute_result",
          "data": {
            "text/plain": [
              "[(0,\n",
              "  u'0.017*\"movie\" + 0.009*\"funny\" + 0.008*\"film\" + 0.006*\"like\" + 0.004*\"thriller\" + 0.004*\"horror\" + 0.004*\"picture\" + 0.003*\"stuff\" + 0.003*\"just\" + 0.003*\"isn\"'),\n",
              " (1,\n",
              "  u'0.018*\"film\" + 0.008*\"movie\" + 0.006*\"story\" + 0.006*\"self\" + 0.005*\"performance\" + 0.005*\"character\" + 0.004*\"new\" + 0.004*\"time\" + 0.004*\"world\" + 0.004*\"war\"'),\n",
              " (2,\n",
              "  u'0.019*\"movie\" + 0.012*\"film\" + 0.006*\"comedy\" + 0.006*\"like\" + 0.005*\"good\" + 0.005*\"story\" + 0.004*\"big\" + 0.004*\"movies\" + 0.004*\"time\" + 0.004*\"make\"'),\n",
              " (3,\n",
              "  u'0.012*\"movie\" + 0.006*\"like\" + 0.006*\"film\" + 0.006*\"good\" + 0.005*\"comedy\" + 0.005*\"really\" + 0.004*\"doesn\" + 0.004*\"time\" + 0.004*\"way\" + 0.004*\"ve\"'),\n",
              " (4,\n",
              "  u'0.019*\"film\" + 0.008*\"movie\" + 0.007*\"best\" + 0.005*\"director\" + 0.005*\"work\" + 0.004*\"fun\" + 0.004*\"action\" + 0.004*\"characters\" + 0.003*\"just\" + 0.003*\"direction\"')]"
            ]
          },
          "metadata": {
            "tags": []
          },
          "execution_count": 126
        }
      ]
    },
    {
      "cell_type": "markdown",
      "metadata": {
        "id": "KgHick1Qxye0",
        "colab_type": "text"
      },
      "source": [
        "We can see how each document fits in with the topics."
      ]
    }
  ]
}